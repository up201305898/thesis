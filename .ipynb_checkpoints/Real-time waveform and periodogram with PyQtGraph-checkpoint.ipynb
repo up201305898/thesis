{
 "cells": [
  {
   "cell_type": "code",
   "execution_count": 1,
   "metadata": {},
   "outputs": [
    {
     "data": {
      "text/plain": [
       "'Real-time waveform and periodogram with PyQtGraph'"
      ]
     },
     "execution_count": 1,
     "metadata": {},
     "output_type": "execute_result"
    }
   ],
   "source": [
    "\"Real-time waveform and periodogram with PyQtGraph\""
   ]
  },
  {
   "cell_type": "code",
   "execution_count": 1,
   "metadata": {},
   "outputs": [
    {
     "name": "stderr",
     "output_type": "stream",
     "text": [
      "C:\\Users\\pedro\\Anaconda3\\lib\\site-packages\\ipykernel_launcher.py:63: DeprecationWarning: object of type <class 'float'> cannot be safely interpreted as an integer.\n",
      "C:\\Users\\pedro\\Anaconda3\\lib\\site-packages\\pyqtgraph\\graphicsItems\\PlotDataItem.py:531: RuntimeWarning: divide by zero encountered in log10\n",
      "  x = np.log10(x)\n",
      "C:\\Users\\pedro\\Anaconda3\\lib\\site-packages\\pyqtgraph\\graphicsItems\\PlotDataItem.py:533: RuntimeWarning: divide by zero encountered in log10\n",
      "  y = np.log10(y)\n"
     ]
    }
   ],
   "source": [
    "import numpy as np\n",
    "from pyqtgraph.Qt import QtGui, QtCore\n",
    "import pyqtgraph as pg\n",
    "\n",
    "import struct\n",
    "import pyaudio\n",
    "from scipy.fftpack import fft\n",
    "\n",
    "import sys\n",
    "import time\n",
    "\n",
    "\n",
    "class AudioStream(object):\n",
    "    def __init__(self):\n",
    "\n",
    "        # pyqtgraph stuff\n",
    "        pg.setConfigOptions(antialias=True)\n",
    "        self.traces = dict()\n",
    "        self.app = QtGui.QApplication(sys.argv)\n",
    "        self.win = pg.GraphicsWindow(title='Spectrum Analyzer')\n",
    "        self.win.setWindowTitle('Spectrum Analyzer')\n",
    "        self.win.setGeometry(5, 115, 1910, 1070)\n",
    "\n",
    "        wf_xlabels = [(0, '0'), (2048, '2048'), (4096, '4096')]\n",
    "        wf_xaxis = pg.AxisItem(orientation='bottom')\n",
    "        wf_xaxis.setTicks([wf_xlabels])\n",
    "\n",
    "        wf_ylabels = [(0, '0'), (127, '128'), (255, '255')]\n",
    "        wf_yaxis = pg.AxisItem(orientation='left')\n",
    "        wf_yaxis.setTicks([wf_ylabels])\n",
    "\n",
    "        sp_xlabels = [\n",
    "            (np.log10(10), '10'), (np.log10(100), '100'),\n",
    "            (np.log10(1000), '1000'), (np.log10(22050), '22050')\n",
    "        ]\n",
    "        sp_xaxis = pg.AxisItem(orientation='bottom')\n",
    "        sp_xaxis.setTicks([sp_xlabels])\n",
    "\n",
    "        self.waveform = self.win.addPlot(\n",
    "            title='WAVEFORM', row=1, col=1, axisItems={'bottom': wf_xaxis, 'left': wf_yaxis},\n",
    "        )\n",
    "        self.spectrum = self.win.addPlot(\n",
    "            title='SPECTRUM', row=2, col=1, axisItems={'bottom': sp_xaxis},\n",
    "        )\n",
    "\n",
    "        # pyaudio stuff\n",
    "        self.FORMAT = pyaudio.paInt16\n",
    "        self.CHANNELS = 1\n",
    "        self.RATE = 44100\n",
    "        self.CHUNK = 1024 * 2\n",
    "\n",
    "        self.p = pyaudio.PyAudio()\n",
    "        self.stream = self.p.open(\n",
    "            format=self.FORMAT,\n",
    "            channels=self.CHANNELS,\n",
    "            rate=self.RATE,\n",
    "            input=True,\n",
    "            output=True,\n",
    "            frames_per_buffer=self.CHUNK,\n",
    "        )\n",
    "        # waveform and spectrum x points\n",
    "        self.x = np.arange(0, 2 * self.CHUNK, 2)\n",
    "        self.f = np.linspace(0, self.RATE / 2, self.CHUNK / 2)\n",
    "\n",
    "    def start(self):\n",
    "        if (sys.flags.interactive != 1) or not hasattr(QtCore, 'PYQT_VERSION'):\n",
    "            QtGui.QApplication.instance().exec_()\n",
    "\n",
    "    def set_plotdata(self, name, data_x, data_y):\n",
    "        if name in self.traces:\n",
    "            self.traces[name].setData(data_x, data_y)\n",
    "        else:\n",
    "            if name == 'waveform':\n",
    "                self.traces[name] = self.waveform.plot(pen='c', width=3)\n",
    "                self.waveform.setYRange(0, 255, padding=0)\n",
    "                self.waveform.setXRange(0, 2 * self.CHUNK, padding=0.005)\n",
    "            if name == 'spectrum':\n",
    "                self.traces[name] = self.spectrum.plot(pen='m', width=3)\n",
    "                self.spectrum.setLogMode(x=True, y=True)\n",
    "                self.spectrum.setYRange(-4, 0, padding=0)\n",
    "                self.spectrum.setXRange(\n",
    "                    np.log10(20), np.log10(self.RATE / 2), padding=0.005)\n",
    "\n",
    "    def update(self):\n",
    "        wf_data = self.stream.read(self.CHUNK)\n",
    "        wf_data = np.frombuffer(wf_data, dtype='h')  \n",
    "        wf_data = np.array(wf_data, dtype='h')/140 + 127\n",
    "        self.set_plotdata(name='waveform', data_x=self.x, data_y=wf_data,)\n",
    "\n",
    "        sp_data = fft(np.array(wf_data, dtype='int8') - 128)\n",
    "        sp_data = np.abs(sp_data[0:int(self.CHUNK / 2)]\n",
    "                         ) * 2 / (128 * self.CHUNK)\n",
    "        self.set_plotdata(name='spectrum', data_x=self.f, data_y=sp_data)\n",
    "\n",
    "    def animation(self):\n",
    "        timer = QtCore.QTimer()\n",
    "        timer.timeout.connect(self.update)\n",
    "        timer.start(20)\n",
    "        self.start()\n",
    "\n",
    "\n",
    "if __name__ == '__main__':\n",
    "\n",
    "    audio_app = AudioStream()\n",
    "    audio_app.animation()"
   ]
  },
  {
   "cell_type": "code",
   "execution_count": null,
   "metadata": {},
   "outputs": [],
   "source": []
  }
 ],
 "metadata": {
  "kernelspec": {
   "display_name": "Python 3",
   "language": "python",
   "name": "python3"
  },
  "language_info": {
   "codemirror_mode": {
    "name": "ipython",
    "version": 3
   },
   "file_extension": ".py",
   "mimetype": "text/x-python",
   "name": "python",
   "nbconvert_exporter": "python",
   "pygments_lexer": "ipython3",
   "version": "3.7.4"
  }
 },
 "nbformat": 4,
 "nbformat_minor": 2
}
